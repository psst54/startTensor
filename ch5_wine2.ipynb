{
  "nbformat": 4,
  "nbformat_minor": 0,
  "metadata": {
    "colab": {
      "name": "ch5_wine2.ipynb",
      "provenance": [],
      "collapsed_sections": [],
      "authorship_tag": "ABX9TyNjZk+Qvgj6XNqpmif4OssT"
    },
    "kernelspec": {
      "name": "python3",
      "display_name": "Python 3"
    }
  },
  "cells": [
    {
      "cell_type": "code",
      "metadata": {
        "id": "_d0BM4g2zm3U",
        "colab_type": "code",
        "colab": {}
      },
      "source": [
        "try:\n",
        "    # %tensorflow_version only exists in Colab.\n",
        "    %tensorflow_version 2.x\n",
        "except Exception:\n",
        "    pass"
      ],
      "execution_count": null,
      "outputs": []
    },
    {
      "cell_type": "code",
      "metadata": {
        "id": "euYWyj8VzuMl",
        "colab_type": "code",
        "colab": {}
      },
      "source": [
        "import pandas as pd\n",
        "red = pd.read_csv('http://archive.ics.uci.edu/ml/machine-learning-databases/wine-quality/winequality-red.csv', sep=';')\n",
        "white = pd.read_csv('http://archive.ics.uci.edu/ml/machine-learning-databases/wine-quality/winequality-white.csv', sep=';')"
      ],
      "execution_count": 3,
      "outputs": []
    },
    {
      "cell_type": "code",
      "metadata": {
        "id": "-0sQmBff01l2",
        "colab_type": "code",
        "colab": {
          "base_uri": "https://localhost:8080/",
          "height": 323
        },
        "outputId": "714bd87d-6126-4820-ad33-bb69f172eb77"
      },
      "source": [
        "red['type'] = 0\n",
        "white['type'] = 1\n",
        "wine = pd.concat([red, white])\n",
        "\n",
        "print(wine['quality'].describe())\n",
        "print(wine['quality'].value_counts())"
      ],
      "execution_count": 28,
      "outputs": [
        {
          "output_type": "stream",
          "text": [
            "count    6497.000000\n",
            "mean        5.818378\n",
            "std         0.873255\n",
            "min         3.000000\n",
            "25%         5.000000\n",
            "50%         6.000000\n",
            "75%         6.000000\n",
            "max         9.000000\n",
            "Name: quality, dtype: float64\n",
            "6    2836\n",
            "5    2138\n",
            "7    1079\n",
            "4     216\n",
            "8     193\n",
            "3      30\n",
            "9       5\n",
            "Name: quality, dtype: int64\n"
          ],
          "name": "stdout"
        }
      ]
    },
    {
      "cell_type": "code",
      "metadata": {
        "id": "jhpcqsBd5_24",
        "colab_type": "code",
        "colab": {
          "base_uri": "https://localhost:8080/",
          "height": 265
        },
        "outputId": "b6195a5b-5bff-46d9-8cff-8e9e9a0d7739"
      },
      "source": [
        "import matplotlib.pyplot as plt\n",
        "plt.hist(wine['quality'], bins = 7, rwidth = 0.8)\n",
        "plt.show()"
      ],
      "execution_count": 30,
      "outputs": [
        {
          "output_type": "display_data",
          "data": {
            "image/png": "[encoded data removed]",
            "text/plain": [
              "<Figure size 432x288 with 1 Axes>"
            ]
          },
          "metadata": {
            "tags": [],
            "needs_background": "light"
          }
        }
      ]
    },
    {
      "cell_type": "code",
      "metadata": {
        "id": "9uQMXugB6RAq",
        "colab_type": "code",
        "colab": {}
      },
      "source": [
        "wine.loc[wine['quality'] <= 5, 'new_quality'] = 0\n",
        "wine.loc[wine['quality'] == 6, 'new_quality'] = 1\n",
        "wine.loc[wine['quality'] >= 7, 'new_quality'] = 2"
      ],
      "execution_count": 31,
      "outputs": []
    },
    {
      "cell_type": "code",
      "metadata": {
        "id": "Ukt6qIUd1MrE",
        "colab_type": "code",
        "colab": {
          "base_uri": "https://localhost:8080/",
          "height": 197
        },
        "outputId": "ab7a088a-cbde-4585-f2e9-af59f2c405e7"
      },
      "source": [
        "# test loc\n",
        "data = [['Apple', 11], ['Banana', 23], ['Coconut', 35]]\n",
        "df = pd.DataFrame(data, columns = ['Fruit', 'Count'])\n",
        "print(df)\n",
        "print()\n",
        "print(df.loc[0])\n",
        "print()\n",
        "print(df.loc[0, 'Fruit'])"
      ],
      "execution_count": 6,
      "outputs": [
        {
          "output_type": "stream",
          "text": [
            "     Fruit  Count\n",
            "0    Apple     11\n",
            "1   Banana     23\n",
            "2  Coconut     35\n",
            "\n",
            "Fruit    Apple\n",
            "Count       11\n",
            "Name: 0, dtype: object\n",
            "\n",
            "Apple\n"
          ],
          "name": "stdout"
        }
      ]
    },
    {
      "cell_type": "code",
      "metadata": {
        "id": "MMaWub_G10cH",
        "colab_type": "code",
        "colab": {}
      },
      "source": [
        "import tensorflow as tf\n",
        "import numpy as np\n",
        "\n",
        "del wine['quality']\n",
        "wine_norm = (wine - wine.min()) / (wine.max() - wine.min())\n",
        "wine_shuffle = wine_norm.sample(frac = 1)\n",
        "wine_np = wine_shuffle.to_numpy()\n",
        "\n",
        "train_idx = int(len(wine_np) * 0.8)\n",
        "train_X, train_Y = wine_np[:train_idx, :-1], wine_np[:train_idx, -1]\n",
        "test_X, test_Y = wine_np[train_idx:, :-1], wine_np[train_idx:, -1]\n",
        "train_Y = tf.keras.utils.to_categorical(train_Y, num_classes = 3)\n",
        "test_Y = tf.keras.utils.to_categorical(test_Y, num_classes = 3)"
      ],
      "execution_count": 32,
      "outputs": []
    },
    {
      "cell_type": "code",
      "metadata": {
        "id": "ist7Am_q3G_B",
        "colab_type": "code",
        "colab": {
          "base_uri": "https://localhost:8080/",
          "height": 917
        },
        "outputId": "9176d65f-0a00-4de6-930c-7435ec0b476b"
      },
      "source": [
        "model = tf.keras.Sequential([\n",
        "                             tf.keras.layers.Dense(units = 48, activation = 'relu', input_shape = (12, )),\n",
        "                             tf.keras.layers.Dense(units = 24, activation = 'relu'),\n",
        "                             tf.keras.layers.Dense(units = 12, activation = 'relu'),\n",
        "                             tf.keras.layers.Dense(units = 3, activation = 'softmax')\n",
        "])\n",
        "\n",
        "model.compile(optimizer = tf.keras.optimizers.Adam(lr = 0.07), loss = 'categorical_crossentropy', metrics = ['accuracy'])\n",
        "\n",
        "history = model.fit(train_X, train_Y, epochs = 25, batch_size = 32, validation_split = 0.25)"
      ],
      "execution_count": 34,
      "outputs": [
        {
          "output_type": "stream",
          "text": [
            "Epoch 1/25\n",
            "122/122 [==============================] - 0s 2ms/step - loss: 0.5051 - accuracy: 0.7973 - val_loss: 0.4180 - val_accuracy: 0.7500\n",
            "Epoch 2/25\n",
            "122/122 [==============================] - 0s 1ms/step - loss: 0.4362 - accuracy: 0.7937 - val_loss: 0.4167 - val_accuracy: 0.8254\n",
            "Epoch 3/25\n",
            "122/122 [==============================] - 0s 1ms/step - loss: 0.4505 - accuracy: 0.7939 - val_loss: 0.3730 - val_accuracy: 0.8315\n",
            "Epoch 4/25\n",
            "122/122 [==============================] - 0s 1ms/step - loss: 0.4247 - accuracy: 0.7914 - val_loss: 0.3688 - val_accuracy: 0.8338\n",
            "Epoch 5/25\n",
            "122/122 [==============================] - 0s 1ms/step - loss: 0.4104 - accuracy: 0.8040 - val_loss: 0.4078 - val_accuracy: 0.7777\n",
            "Epoch 6/25\n",
            "122/122 [==============================] - 0s 1ms/step - loss: 0.4236 - accuracy: 0.7945 - val_loss: 0.3823 - val_accuracy: 0.8254\n",
            "Epoch 7/25\n",
            "122/122 [==============================] - 0s 1ms/step - loss: 0.4167 - accuracy: 0.7968 - val_loss: 0.3853 - val_accuracy: 0.8254\n",
            "Epoch 8/25\n",
            "122/122 [==============================] - 0s 1ms/step - loss: 0.4232 - accuracy: 0.7965 - val_loss: 0.3892 - val_accuracy: 0.8254\n",
            "Epoch 9/25\n",
            "122/122 [==============================] - 0s 1ms/step - loss: 0.4165 - accuracy: 0.7932 - val_loss: 0.3764 - val_accuracy: 0.8254\n",
            "Epoch 10/25\n",
            "122/122 [==============================] - 0s 1ms/step - loss: 0.4144 - accuracy: 0.7980 - val_loss: 0.3705 - val_accuracy: 0.8254\n",
            "Epoch 11/25\n",
            "122/122 [==============================] - 0s 1ms/step - loss: 0.4159 - accuracy: 0.7924 - val_loss: 0.3741 - val_accuracy: 0.8192\n",
            "Epoch 12/25\n",
            "122/122 [==============================] - 0s 1ms/step - loss: 0.4096 - accuracy: 0.8006 - val_loss: 0.3798 - val_accuracy: 0.8338\n",
            "Epoch 13/25\n",
            "122/122 [==============================] - 0s 2ms/step - loss: 0.4125 - accuracy: 0.8070 - val_loss: 0.3741 - val_accuracy: 0.8038\n",
            "Epoch 14/25\n",
            "122/122 [==============================] - 0s 2ms/step - loss: 0.4104 - accuracy: 0.7960 - val_loss: 0.3726 - val_accuracy: 0.8254\n",
            "Epoch 15/25\n",
            "122/122 [==============================] - 0s 2ms/step - loss: 0.4128 - accuracy: 0.7914 - val_loss: 0.3679 - val_accuracy: 0.8177\n",
            "Epoch 16/25\n",
            "122/122 [==============================] - 0s 2ms/step - loss: 0.4118 - accuracy: 0.8027 - val_loss: 0.3667 - val_accuracy: 0.8338\n",
            "Epoch 17/25\n",
            "122/122 [==============================] - 0s 2ms/step - loss: 0.4107 - accuracy: 0.7993 - val_loss: 0.3713 - val_accuracy: 0.8254\n",
            "Epoch 18/25\n",
            "122/122 [==============================] - 0s 1ms/step - loss: 0.4047 - accuracy: 0.7855 - val_loss: 0.3724 - val_accuracy: 0.8254\n",
            "Epoch 19/25\n",
            "122/122 [==============================] - 0s 1ms/step - loss: 0.4051 - accuracy: 0.7986 - val_loss: 0.4005 - val_accuracy: 0.7769\n",
            "Epoch 20/25\n",
            "122/122 [==============================] - 0s 1ms/step - loss: 0.4144 - accuracy: 0.7968 - val_loss: 0.4038 - val_accuracy: 0.8254\n",
            "Epoch 21/25\n",
            "122/122 [==============================] - 0s 1ms/step - loss: 0.4119 - accuracy: 0.7952 - val_loss: 0.3684 - val_accuracy: 0.8254\n",
            "Epoch 22/25\n",
            "122/122 [==============================] - 0s 1ms/step - loss: 0.4215 - accuracy: 0.7952 - val_loss: 0.3790 - val_accuracy: 0.8254\n",
            "Epoch 23/25\n",
            "122/122 [==============================] - 0s 2ms/step - loss: 0.4158 - accuracy: 0.8027 - val_loss: 0.3952 - val_accuracy: 0.7500\n",
            "Epoch 24/25\n",
            "122/122 [==============================] - 0s 1ms/step - loss: 0.4193 - accuracy: 0.7957 - val_loss: 0.4269 - val_accuracy: 0.8254\n",
            "Epoch 25/25\n",
            "122/122 [==============================] - 0s 1ms/step - loss: 0.4237 - accuracy: 0.7965 - val_loss: 0.3976 - val_accuracy: 0.8000\n"
          ],
          "name": "stdout"
        }
      ]
    },
    {
      "cell_type": "code",
      "metadata": {
        "id": "yYEbsPP96xvD",
        "colab_type": "code",
        "colab": {
          "base_uri": "https://localhost:8080/",
          "height": 283
        },
        "outputId": "fd1f5ce0-0e18-4d69-ecc2-4bceed45761d"
      },
      "source": [
        "plt.figure(figsize = (12, 4))\n",
        "\n",
        "plt.subplot(1, 2, 1)\n",
        "plt.plot(history.history['loss'], 'b-', label = 'loss')\n",
        "plt.plot(history.history['val_loss'], 'r--', label = 'val_loss')\n",
        "plt.xlabel('Epoch')\n",
        "plt.legend()\n",
        "\n",
        "plt.subplot(1, 2, 2)\n",
        "plt.plot(history.history['accuracy'], 'g-', label = 'accuracy')\n",
        "plt.plot(history.history['val_accuracy'], 'k--', label = 'val_accuracy')\n",
        "plt.xlabel('Epoch')\n",
        "plt.ylim(0.7, 1)\n",
        "plt.legend()\n",
        "\n",
        "plt.show()"
      ],
      "execution_count": 36,
      "outputs": [
        {
          "output_type": "display_data",
          "data": {
            "image/png": "[encoded data removed]",
            "text/plain": [
              "<Figure size 864x288 with 2 Axes>"
            ]
          },
          "metadata": {
            "tags": [],
            "needs_background": "light"
          }
        }
      ]
    },
    {
      "cell_type": "code",
      "metadata": {
        "id": "Qn7dj--Y8VU4",
        "colab_type": "code",
        "colab": {
          "base_uri": "https://localhost:8080/",
          "height": 53
        },
        "outputId": "4450b93d-d1aa-4df0-9316-cebe489221ff"
      },
      "source": [
        "model.evaluate(test_X, test_Y)"
      ],
      "execution_count": 37,
      "outputs": [
        {
          "output_type": "stream",
          "text": [
            "41/41 [==============================] - 0s 884us/step - loss: 0.4105 - accuracy: 0.8000\n"
          ],
          "name": "stdout"
        },
        {
          "output_type": "execute_result",
          "data": {
            "text/plain": [
              "[0.41051536798477173, 0.800000011920929]"
            ]
          },
          "metadata": {
            "tags": []
          },
          "execution_count": 37
        }
      ]
    }
  ]
}