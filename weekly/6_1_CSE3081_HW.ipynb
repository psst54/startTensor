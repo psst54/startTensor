{
  "nbformat": 4,
  "nbformat_minor": 0,
  "metadata": {
    "colab": {
      "name": "6_1_CSE3081_HW.ipynb",
      "provenance": [],
      "collapsed_sections": [],
      "authorship_tag": "ABX9TyMk78UdLbzQU5JhlEAr+bP+",
      "include_colab_link": true
    },
    "kernelspec": {
      "name": "python3",
      "display_name": "Python 3"
    }
  },
  "cells": [
    {
      "cell_type": "markdown",
      "metadata": {
        "id": "view-in-github",
        "colab_type": "text"
      },
      "source": [
        "<a href=\"https://colab.research.google.com/github/psst54/startTensorflow/blob/master/weekly/6_1_CSE3081_HW.ipynb\" target=\"_parent\"><img src=\"https://colab.research.google.com/assets/colab-badge.svg\" alt=\"Open In Colab\"/></a>"
      ]
    },
    {
      "cell_type": "markdown",
      "metadata": {
        "id": "FRIS8jmESuN_"
      },
      "source": [
        "CSE3081 HW1에서 구현한 algorithm 3(O(n^4)), algorithm 4(O(n^3 log n)), algorithm 5(O(n^3))의 수행시간 측정 결과를 알아보고 그래프를 그려본다."
      ]
    },
    {
      "cell_type": "code",
      "metadata": {
        "id": "ZtEE5iXLMGZU",
        "outputId": "35eb64ef-bcf3-47d3-ca1b-078d74fe31ff",
        "colab": {
          "base_uri": "https://localhost:8080/",
          "height": 71
        }
      },
      "source": [
        "import tensorflow as tf\n",
        "import numpy as np\n",
        "import matplotlib.pyplot as plt\n",
        "import random\n",
        "\n",
        "X = [ 50, 100, 150, 200, 300, 400 , 500, 700, 1000]\n",
        "Y = []\n",
        "Y.append([14.995039999999998, 163.9702, 781.9444000000001, 2524.076, 12142.82, 35951.8])\n",
        "Y.append([8.95468, 65.99929999999999, 243.08019999999996, 674.1462, 1796.346, 4077.5919999999996, 7959.454, 22104.140000000003, 64184.2])\n",
        "Y.append([1.0571, 6.267539999999999, 22.51768, 51.00684000000001, 148.9362, 367.09579999999994, 694.3538000000001, 1849.4140000000002, 6285.539999999999]\n",
        ")\n",
        "\n",
        "for l in Y:\n",
        "    print(l)"
      ],
      "execution_count": 1,
      "outputs": [
        {
          "output_type": "stream",
          "text": [
            "[14.995039999999998, 163.9702, 781.9444000000001, 2524.076, 12142.82, 35951.8]\n",
            "[8.95468, 65.99929999999999, 243.08019999999996, 674.1462, 1796.346, 4077.5919999999996, 7959.454, 22104.140000000003, 64184.2]\n",
            "[1.0571, 6.267539999999999, 22.51768, 51.00684000000001, 148.9362, 367.09579999999994, 694.3538000000001, 1849.4140000000002, 6285.539999999999]\n"
          ],
          "name": "stdout"
        }
      ]
    },
    {
      "cell_type": "code",
      "metadata": {
        "id": "nrBPy43KM7V5",
        "outputId": "8e300426-c532-4ed5-d717-037bfd8808fb",
        "colab": {
          "base_uri": "https://localhost:8080/",
          "height": 317
        }
      },
      "source": [
        "# time complexity of algorithm 3\n",
        "\n",
        "a = tf.Variable(random.random())\n",
        "b = tf.Variable(random.random())\n",
        "c = tf.Variable(random.random())\n",
        "\n",
        "x = X[:6]\n",
        "y = Y[0]\n",
        "\n",
        "\n",
        "def compute_loss():\n",
        "  y_pred = a * x * x + b * x + c\n",
        "  loss = tf.reduce_mean((y - y_pred) ** 2)\n",
        "  return loss\n",
        "\n",
        "\n",
        "optimizer = tf.keras.optimizers.Adam(lr = 0.1)\n",
        "\n",
        "for i in range(1000):\n",
        "  optimizer.minimize(compute_loss, var_list = [a, b, c])\n",
        "\n",
        "  line_x = np.arange(min(x), max(x), 0.01)\n",
        "  line_y = a*line_x*line_x + b*line_x + c\n",
        "\n",
        "print(a, b, c)\n",
        "plt.plot(line_x, line_y, 'r-')\n",
        "plt.plot(x, y, 'bo')\n",
        "plt.xlabel(\"Array Size\")\n",
        "plt.ylabel(\"ms\")\n",
        "plt.show()"
      ],
      "execution_count": 2,
      "outputs": [
        {
          "output_type": "stream",
          "text": [
            "<tf.Variable 'Variable:0' shape=() dtype=float32, numpy=0.31337813> <tf.Variable 'Variable:0' shape=() dtype=float32, numpy=-41.28051> <tf.Variable 'Variable:0' shape=() dtype=float32, numpy=-50.71986>\n"
          ],
          "name": "stdout"
        },
        {
          "output_type": "display_data",
          "data": {
            "image/png": "[encoded data removed]",
            "text/plain": [
              "<Figure size 432x288 with 1 Axes>"
            ]
          },
          "metadata": {
            "tags": [],
            "needs_background": "light"
          }
        }
      ]
    },
    {
      "cell_type": "code",
      "metadata": {
        "id": "j67x2Je0M_6d",
        "outputId": "5426ca23-0910-480f-da25-6f64a7c35ea6",
        "colab": {
          "base_uri": "https://localhost:8080/",
          "height": 317
        }
      },
      "source": [
        "# time complexity of algorithm 4\n",
        "\n",
        "a = tf.Variable(random.random())\n",
        "b = tf.Variable(random.random())\n",
        "c = tf.Variable(random.random())\n",
        "\n",
        "x = X\n",
        "y = Y[1]\n",
        "\n",
        "\n",
        "def compute_loss():\n",
        "  y_pred = a * x * x + b * x + c\n",
        "  loss = tf.reduce_mean((y - y_pred) ** 2)\n",
        "  return loss\n",
        "\n",
        "\n",
        "optimizer = tf.keras.optimizers.Adam(lr = 0.1)\n",
        "\n",
        "for i in range(1000):\n",
        "  optimizer.minimize(compute_loss, var_list = [a, b, c])\n",
        "\n",
        "  line_x = np.arange(min(x), max(x), 0.01)\n",
        "  line_y = a*line_x*line_x + b*line_x + c\n",
        "\n",
        "print(a, b, c)\n",
        "plt.plot(line_x, line_y, 'r-')\n",
        "plt.plot(x, y, 'bo')\n",
        "plt.xlabel(\"Array Size\")\n",
        "plt.ylabel(\"ms\")\n",
        "plt.show()"
      ],
      "execution_count": 3,
      "outputs": [
        {
          "output_type": "stream",
          "text": [
            "<tf.Variable 'Variable:0' shape=() dtype=float32, numpy=0.063491985> <tf.Variable 'Variable:0' shape=() dtype=float32, numpy=-4.5284214> <tf.Variable 'Variable:0' shape=() dtype=float32, numpy=-9.934347>\n"
          ],
          "name": "stdout"
        },
        {
          "output_type": "display_data",
          "data": {
            "image/png": "[encoded data removed]",
            "text/plain": [
              "<Figure size 432x288 with 1 Axes>"
            ]
          },
          "metadata": {
            "tags": [],
            "needs_background": "light"
          }
        }
      ]
    },
    {
      "cell_type": "code",
      "metadata": {
        "id": "DrEjXf8-NAa0",
        "outputId": "3bbe445a-a070-4a9c-bba3-ae1e904613b1",
        "colab": {
          "base_uri": "https://localhost:8080/",
          "height": 317
        }
      },
      "source": [
        "# time complexity of algorithm 5\n",
        "\n",
        "a = tf.Variable(random.random())\n",
        "b = tf.Variable(random.random())\n",
        "c = tf.Variable(random.random())\n",
        "\n",
        "x = X\n",
        "y = Y[2]\n",
        "\n",
        "\n",
        "def compute_loss():\n",
        "  y_pred = a * x * x + b * x + c\n",
        "  loss = tf.reduce_mean((y - y_pred) ** 2)\n",
        "  return loss\n",
        "\n",
        "\n",
        "optimizer = tf.keras.optimizers.Adam(lr = 0.1)\n",
        "\n",
        "for i in range(1000):\n",
        "  optimizer.minimize(compute_loss, var_list = [a, b, c])\n",
        "\n",
        "  line_x = np.arange(min(x), max(x), 0.01)\n",
        "  line_y = a*line_x*line_x + b*line_x + c\n",
        "\n",
        "\n",
        "print(a, b, c)\n",
        "plt.plot(line_x, line_y, 'r-')\n",
        "plt.plot(x, y, 'bo')\n",
        "plt.xlabel(\"Array Size\")\n",
        "plt.ylabel(\"ms\")\n",
        "plt.show()"
      ],
      "execution_count": 4,
      "outputs": [
        {
          "output_type": "stream",
          "text": [
            "<tf.Variable 'Variable:0' shape=() dtype=float32, numpy=0.006759542> <tf.Variable 'Variable:0' shape=() dtype=float32, numpy=-1.0212975> <tf.Variable 'Variable:0' shape=() dtype=float32, numpy=-1.4753528>\n"
          ],
          "name": "stdout"
        },
        {
          "output_type": "display_data",
          "data": {
            "image/png": "[encoded data removed]",
            "text/plain": [
              "<Figure size 432x288 with 1 Axes>"
            ]
          },
          "metadata": {
            "tags": [],
            "needs_background": "light"
          }
        }
      ]
    }
  ]
}