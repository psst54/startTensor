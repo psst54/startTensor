{
  "nbformat": 4,
  "nbformat_minor": 0,
  "metadata": {
    "colab": {
      "name": "3_1_FashionMNIST_wCNN&ImageAugmentation.ipynb",
      "provenance": [],
      "collapsed_sections": [],
      "authorship_tag": "ABX9TyPN/elm+qcqLn1izVWbrv4U",
      "include_colab_link": true
    },
    "kernelspec": {
      "name": "python3",
      "display_name": "Python 3"
    },
    "accelerator": "GPU"
  },
  "cells": [
    {
      "cell_type": "markdown",
      "metadata": {
        "id": "view-in-github",
        "colab_type": "text"
      },
      "source": [
        "<a href=\"https://colab.research.google.com/github/psst54/startTensorflow/blob/master/weekly/3_1_FashionMNIST_wCNN%26ImageAugmentation.ipynb\" target=\"_parent\"><img src=\"https://colab.research.google.com/assets/colab-badge.svg\" alt=\"Open In Colab\"/></a>"
      ]
    },
    {
      "cell_type": "markdown",
      "metadata": {
        "id": "RpCynrZzk0wr",
        "colab_type": "text"
      },
      "source": [
        "\n",
        "http://adventuresinmachinelearning.com/keras-tutorial-cnn-11-lines/ 의 모델을 사용함."
      ]
    },
    {
      "cell_type": "code",
      "metadata": {
        "id": "uO0EEWdOqNp3",
        "colab_type": "code",
        "colab": {
          "base_uri": "https://localhost:8080/",
          "height": 161
        },
        "outputId": "12a09cf1-d139-4651-ec34-bfcae1aa19b9"
      },
      "source": [
        "import tensorflow as tf\n",
        "\n",
        "fashion_mnist = tf.keras.datasets.fashion_mnist\n",
        "(x_train, y_train), (x_test, y_test) = fashion_mnist.load_data()\n",
        "\n",
        "# 데이터 정규화\n",
        "x_train = x_train / 255.0\n",
        "x_test = x_test / 255.0\n",
        "\n",
        "x_train = x_train.reshape(x_train.shape[0], 28, 28, 1)\n",
        "x_test = x_test.reshape(x_test.shape[0], 28, 28, 1)\n",
        "\n",
        "y_train = tf.keras.utils.to_categorical(y_train, 10)\n",
        "y_test = tf.keras.utils.to_categorical(y_test, 10)"
      ],
      "execution_count": 1,
      "outputs": [
        {
          "output_type": "stream",
          "text": [
            "Downloading data from https://storage.googleapis.com/tensorflow/tf-keras-datasets/train-labels-idx1-ubyte.gz\n",
            "32768/29515 [=================================] - 0s 0us/step\n",
            "Downloading data from https://storage.googleapis.com/tensorflow/tf-keras-datasets/train-images-idx3-ubyte.gz\n",
            "26427392/26421880 [==============================] - 0s 0us/step\n",
            "Downloading data from https://storage.googleapis.com/tensorflow/tf-keras-datasets/t10k-labels-idx1-ubyte.gz\n",
            "8192/5148 [===============================================] - 0s 0us/step\n",
            "Downloading data from https://storage.googleapis.com/tensorflow/tf-keras-datasets/t10k-images-idx3-ubyte.gz\n",
            "4423680/4422102 [==============================] - 0s 0us/step\n"
          ],
          "name": "stdout"
        }
      ]
    },
    {
      "cell_type": "code",
      "metadata": {
        "id": "Y_PyJisSuhJT",
        "colab_type": "code",
        "colab": {}
      },
      "source": [
        "# 이미지 보강법을 이용한다.\n",
        "from tensorflow.keras.preprocessing.image import ImageDataGenerator\n",
        "import numpy as np\n",
        "\n",
        "image_generator = ImageDataGenerator(\n",
        "    rotation_range=10,\n",
        "    zoom_range=0.10,\n",
        "    shear_range=0.5,\n",
        "    width_shift_range=0.10,\n",
        "    height_shift_range=0.10,\n",
        "    horizontal_flip=True,\n",
        "    vertical_flip=False\n",
        ")\n",
        "\"\"\"\n",
        "rotation_range=10\n",
        "    0도에서 10도 사이의 임의의 각도로 회전시킨 이미지를 얻을 수 있다.\n",
        "zoom_range=0.1\n",
        "    0.9~1.1 사이의 범위로 확대 또는 축소시킨 이미지를 얻을 수 있다.\n",
        "shear_range=0.5\n",
        "    0.5 라디안 사이로 밀린 이미지를 얻을 수 있다. \n",
        "width_shift_range=0.1\n",
        "    (전체 넓이의 비율)*0.1 내로 좌우 이동된 이미지를 얻을 수 있다.\n",
        "height_shift_range=0.1\n",
        "    (전체 넓이의 비율)*0.1 내로 상하 이동된 이미지를 얻을 수 있다.\n",
        "horizontal_flip=True\n",
        "    수평방향으로 뒤집힌 이미지를 얻을 수 있다.\n",
        "vertical_flip=False\n",
        "    수직방향으로 뒤집힌 이미지를 얻을 수 있다. 여기에서는 이용하지 않는다.\n",
        "\"\"\"\n",
        "\n",
        "augment_size = len(x_train)\n",
        "# x_train의 원소 수만큼 보강된 이미지를 만든다.\n",
        "\n",
        "randidx = np.random.randint(x_train.shape[0], size=augment_size)\n",
        "# 랜덤한 인덱스를 augment_size만큼 생성한다.\n",
        "\n",
        "x_augmented = x_train[randidx].copy()\n",
        "y_augmented = y_train[randidx].copy()\n",
        "\n",
        "x_augmented = image_generator.flow(x_augmented, np.zeros(augment_size), batch_size=augment_size, shuffle=False).next()[0]\n",
        "# flow는 image_generator 함수를 통해서 보강된 이미지를 만드는 역할을 한다.\n",
        "\n",
        "x_train = np.concatenate((x_train, x_augmented))\n",
        "y_train = np.concatenate((y_train, y_augmented))"
      ],
      "execution_count": 2,
      "outputs": []
    },
    {
      "cell_type": "code",
      "metadata": {
        "id": "DrT4aot7tnHp",
        "colab_type": "code",
        "colab": {
          "base_uri": "https://localhost:8080/",
          "height": 485
        },
        "outputId": "45fd004f-f9ea-481e-8aae-9e4312f18db3"
      },
      "source": [
        "model = tf.keras.models.Sequential([\n",
        "                    tf.keras.layers.Conv2D(32, kernel_size=(5, 5), strides=(1, 1), padding='same', activation='relu', input_shape=(28, 28, 1)),\n",
        "                    tf.keras.layers.MaxPooling2D(pool_size=(2, 2), strides=(2, 2)),\n",
        "                    tf.keras.layers.Conv2D(64, (2, 2), activation='relu', padding='same'),\n",
        "                    tf.keras.layers.MaxPooling2D(pool_size=(2, 2)),\n",
        "                    tf.keras.layers.Dropout(0.25),\n",
        "                    tf.keras.layers.Flatten(),\n",
        "                    tf.keras.layers.Dense(1000, activation='relu'),\n",
        "                    tf.keras.layers.Dropout(0.5),\n",
        "                    tf.keras.layers.Dense(10, activation='softmax'),\n",
        "])\n",
        "                    \n",
        "model.summary()\n",
        "\n",
        "model.compile(optimizer='adam', loss='categorical_crossentropy', metrics=['accuracy'])"
      ],
      "execution_count": 3,
      "outputs": [
        {
          "output_type": "stream",
          "text": [
            "Model: \"sequential\"\n",
            "_________________________________________________________________\n",
            "Layer (type)                 Output Shape              Param #   \n",
            "=================================================================\n",
            "conv2d (Conv2D)              (None, 28, 28, 32)        832       \n",
            "_________________________________________________________________\n",
            "max_pooling2d (MaxPooling2D) (None, 14, 14, 32)        0         \n",
            "_________________________________________________________________\n",
            "conv2d_1 (Conv2D)            (None, 14, 14, 64)        8256      \n",
            "_________________________________________________________________\n",
            "max_pooling2d_1 (MaxPooling2 (None, 7, 7, 64)          0         \n",
            "_________________________________________________________________\n",
            "dropout (Dropout)            (None, 7, 7, 64)          0         \n",
            "_________________________________________________________________\n",
            "flatten (Flatten)            (None, 3136)              0         \n",
            "_________________________________________________________________\n",
            "dense (Dense)                (None, 1000)              3137000   \n",
            "_________________________________________________________________\n",
            "dropout_1 (Dropout)          (None, 1000)              0         \n",
            "_________________________________________________________________\n",
            "dense_1 (Dense)              (None, 10)                10010     \n",
            "=================================================================\n",
            "Total params: 3,156,098\n",
            "Trainable params: 3,156,098\n",
            "Non-trainable params: 0\n",
            "_________________________________________________________________\n"
          ],
          "name": "stdout"
        }
      ]
    },
    {
      "cell_type": "code",
      "metadata": {
        "id": "DposI7Pvgkxr",
        "colab_type": "code",
        "colab": {
          "base_uri": "https://localhost:8080/",
          "height": 737
        },
        "outputId": "581bc792-2493-42a4-b28d-65a3103b06c7"
      },
      "source": [
        "history = model.fit(x_train, y_train, epochs=20, validation_split=0.25)"
      ],
      "execution_count": 4,
      "outputs": [
        {
          "output_type": "stream",
          "text": [
            "Epoch 1/20\n",
            "2813/2813 [==============================] - 12s 4ms/step - loss: 0.4961 - accuracy: 0.8146 - val_loss: 0.4654 - val_accuracy: 0.8218\n",
            "Epoch 2/20\n",
            "2813/2813 [==============================] - 12s 4ms/step - loss: 0.3539 - accuracy: 0.8663 - val_loss: 0.4026 - val_accuracy: 0.8460\n",
            "Epoch 3/20\n",
            "2813/2813 [==============================] - 12s 4ms/step - loss: 0.3116 - accuracy: 0.8828 - val_loss: 0.3725 - val_accuracy: 0.8569\n",
            "Epoch 4/20\n",
            "2813/2813 [==============================] - 11s 4ms/step - loss: 0.2843 - accuracy: 0.8928 - val_loss: 0.3574 - val_accuracy: 0.8647\n",
            "Epoch 5/20\n",
            "2813/2813 [==============================] - 12s 4ms/step - loss: 0.2585 - accuracy: 0.9023 - val_loss: 0.3379 - val_accuracy: 0.8729\n",
            "Epoch 6/20\n",
            "2813/2813 [==============================] - 12s 4ms/step - loss: 0.2415 - accuracy: 0.9093 - val_loss: 0.3421 - val_accuracy: 0.8710\n",
            "Epoch 7/20\n",
            "2813/2813 [==============================] - 13s 5ms/step - loss: 0.2243 - accuracy: 0.9151 - val_loss: 0.3361 - val_accuracy: 0.8743\n",
            "Epoch 8/20\n",
            "2813/2813 [==============================] - 12s 4ms/step - loss: 0.2104 - accuracy: 0.9211 - val_loss: 0.3515 - val_accuracy: 0.8694\n",
            "Epoch 9/20\n",
            "2813/2813 [==============================] - 12s 4ms/step - loss: 0.1951 - accuracy: 0.9263 - val_loss: 0.3334 - val_accuracy: 0.8798\n",
            "Epoch 10/20\n",
            "2813/2813 [==============================] - 12s 4ms/step - loss: 0.1862 - accuracy: 0.9294 - val_loss: 0.3305 - val_accuracy: 0.8789\n",
            "Epoch 11/20\n",
            "2813/2813 [==============================] - 12s 4ms/step - loss: 0.1744 - accuracy: 0.9336 - val_loss: 0.3583 - val_accuracy: 0.8775\n",
            "Epoch 12/20\n",
            "2813/2813 [==============================] - 12s 4ms/step - loss: 0.1672 - accuracy: 0.9371 - val_loss: 0.3568 - val_accuracy: 0.8727\n",
            "Epoch 13/20\n",
            "2813/2813 [==============================] - 12s 4ms/step - loss: 0.1605 - accuracy: 0.9394 - val_loss: 0.3581 - val_accuracy: 0.8740\n",
            "Epoch 14/20\n",
            "2813/2813 [==============================] - 12s 4ms/step - loss: 0.1529 - accuracy: 0.9431 - val_loss: 0.3587 - val_accuracy: 0.8781\n",
            "Epoch 15/20\n",
            "2813/2813 [==============================] - 11s 4ms/step - loss: 0.1435 - accuracy: 0.9460 - val_loss: 0.3714 - val_accuracy: 0.8808\n",
            "Epoch 16/20\n",
            "2813/2813 [==============================] - 12s 4ms/step - loss: 0.1394 - accuracy: 0.9474 - val_loss: 0.3745 - val_accuracy: 0.8764\n",
            "Epoch 17/20\n",
            "2813/2813 [==============================] - 12s 4ms/step - loss: 0.1336 - accuracy: 0.9499 - val_loss: 0.3788 - val_accuracy: 0.8803\n",
            "Epoch 18/20\n",
            "2813/2813 [==============================] - 12s 4ms/step - loss: 0.1316 - accuracy: 0.9517 - val_loss: 0.3772 - val_accuracy: 0.8834\n",
            "Epoch 19/20\n",
            "2813/2813 [==============================] - 12s 4ms/step - loss: 0.1237 - accuracy: 0.9538 - val_loss: 0.4080 - val_accuracy: 0.8802\n",
            "Epoch 20/20\n",
            "2813/2813 [==============================] - 12s 4ms/step - loss: 0.1223 - accuracy: 0.9557 - val_loss: 0.3671 - val_accuracy: 0.8784\n"
          ],
          "name": "stdout"
        }
      ]
    },
    {
      "cell_type": "code",
      "metadata": {
        "id": "ROQ5jCu-ixTg",
        "colab_type": "code",
        "colab": {
          "base_uri": "https://localhost:8080/",
          "height": 53
        },
        "outputId": "847fceaa-8dc6-47e5-d773-8bacc3aff90b"
      },
      "source": [
        "model.evaluate(x_test, y_test)"
      ],
      "execution_count": 5,
      "outputs": [
        {
          "output_type": "stream",
          "text": [
            "313/313 [==============================] - 1s 2ms/step - loss: 0.2768 - accuracy: 0.9222\n"
          ],
          "name": "stdout"
        },
        {
          "output_type": "execute_result",
          "data": {
            "text/plain": [
              "[0.27680692076683044, 0.9222000241279602]"
            ]
          },
          "metadata": {
            "tags": []
          },
          "execution_count": 5
        }
      ]
    },
    {
      "cell_type": "code",
      "metadata": {
        "id": "wO1N0MGxjmvD",
        "colab_type": "code",
        "colab": {
          "base_uri": "https://localhost:8080/",
          "height": 283
        },
        "outputId": "ce3a9a82-e725-4aac-887c-a775d3e1c8a6"
      },
      "source": [
        "import matplotlib.pyplot as plt\n",
        "\n",
        "plt.figure(figsize=(12, 4))\n",
        "\n",
        "plt.subplot(1, 2, 1)\n",
        "plt.plot(history.history['loss'], 'b-', label='loss')\n",
        "plt.plot(history.history['val_loss'], 'r--', label='val_loss')\n",
        "plt.xlabel('Epoch')\n",
        "plt.legend()\n",
        "\n",
        "plt.subplot(1, 2, 2)\n",
        "plt.plot(history.history['accuracy'], 'b-', label='accuracy')\n",
        "plt.plot(history.history['val_accuracy'], 'r--', label='val_accuracy')\n",
        "plt.ylim(0.7, 1)\n",
        "plt.xlabel('Epoch')\n",
        "plt.legend()\n",
        "\n",
        "plt.show()"
      ],
      "execution_count": 8,
      "outputs": [
        {
          "output_type": "display_data",
          "data": {
            "image/png": "[encoded data removed]",
            "text/plain": [
              "<Figure size 864x288 with 2 Axes>"
            ]
          },
          "metadata": {
            "tags": [],
            "needs_background": "light"
          }
        }
      ]
    }
  ]
}