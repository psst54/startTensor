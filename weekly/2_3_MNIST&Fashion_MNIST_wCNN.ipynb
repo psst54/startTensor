{
  "nbformat": 4,
  "nbformat_minor": 0,
  "metadata": {
    "colab": {
      "name": "2_3_MNIST&Fashion_MNIST_wCNN.ipynb",
      "provenance": [],
      "collapsed_sections": [],
      "authorship_tag": "ABX9TyOISeK0+CbWR5OU13PjbAbb",
      "include_colab_link": true
    },
    "kernelspec": {
      "name": "python3",
      "display_name": "Python 3"
    },
    "accelerator": "GPU"
  },
  "cells": [
    {
      "cell_type": "markdown",
      "metadata": {
        "id": "view-in-github",
        "colab_type": "text"
      },
      "source": [
        "<a href=\"https://colab.research.google.com/github/psst54/startTensorflow/blob/master/weekly/2_3_MNIST%26Fashion_MNIST_wCNN.ipynb\" target=\"_parent\"><img src=\"https://colab.research.google.com/assets/colab-badge.svg\" alt=\"Open In Colab\"/></a>"
      ]
    },
    {
      "cell_type": "markdown",
      "metadata": {
        "id": "uNsthq07lT19",
        "colab_type": "text"
      },
      "source": [
        "http://adventuresinmachinelearning.com/keras-tutorial-cnn-11-lines/ 의 모델을 사용함."
      ]
    },
    {
      "cell_type": "code",
      "metadata": {
        "id": "-lQ5e7M_Hzh-",
        "colab_type": "code",
        "colab": {}
      },
      "source": [
        "import tensorflow as tf\n",
        "mnist = tf.keras.datasets.mnist\n",
        "(x_train, y_train), (x_test, y_test) = mnist.load_data()"
      ],
      "execution_count": null,
      "outputs": []
    },
    {
      "cell_type": "code",
      "metadata": {
        "id": "MIhJRF8HIRq-",
        "colab_type": "code",
        "colab": {}
      },
      "source": [
        "x_train = x_train / 255.0\n",
        "x_test = x_test / 255.0\n",
        "\n",
        "x_train = x_train.reshape(x_train.shape[0], 28, 28, 1)\n",
        "x_test = x_test.reshape(x_test.shape[0], 28, 28, 1)\n",
        "\n",
        "y_train = tf.keras.utils.to_categorical(y_train, 10)\n",
        "y_test = tf.keras.utils.to_categorical(y_test, 10)"
      ],
      "execution_count": null,
      "outputs": []
    },
    {
      "cell_type": "code",
      "metadata": {
        "id": "0OnAmDv_ImT0",
        "colab_type": "code",
        "colab": {
          "base_uri": "https://localhost:8080/",
          "height": 485
        },
        "outputId": "617220e4-8fbb-4477-c9b6-d89c13b17dea"
      },
      "source": [
        "model = tf.keras.models.Sequential([\n",
        "                    tf.keras.layers.Conv2D(32, kernel_size=(5, 5), strides=(1, 1), padding='same', activation='relu', input_shape=(28, 28, 1)),\n",
        "                    tf.keras.layers.MaxPooling2D(pool_size=(2, 2), strides=(2, 2)),\n",
        "                    tf.keras.layers.Conv2D(64, (2, 2), activation='relu', padding='same'),\n",
        "                    tf.keras.layers.MaxPooling2D(pool_size=(2, 2)),\n",
        "                    tf.keras.layers.Dropout(0.25),\n",
        "                    tf.keras.layers.Flatten(),\n",
        "                    tf.keras.layers.Dense(1000, activation='relu'),\n",
        "                    tf.keras.layers.Dropout(0.5),\n",
        "                    tf.keras.layers.Dense(10, activation='softmax'),\n",
        "])\n",
        "                    \n",
        "model.summary()"
      ],
      "execution_count": null,
      "outputs": [
        {
          "output_type": "stream",
          "text": [
            "Model: \"sequential_2\"\n",
            "_________________________________________________________________\n",
            "Layer (type)                 Output Shape              Param #   \n",
            "=================================================================\n",
            "conv2d_4 (Conv2D)            (None, 28, 28, 32)        832       \n",
            "_________________________________________________________________\n",
            "max_pooling2d_4 (MaxPooling2 (None, 14, 14, 32)        0         \n",
            "_________________________________________________________________\n",
            "conv2d_5 (Conv2D)            (None, 14, 14, 64)        8256      \n",
            "_________________________________________________________________\n",
            "max_pooling2d_5 (MaxPooling2 (None, 7, 7, 64)          0         \n",
            "_________________________________________________________________\n",
            "dropout_4 (Dropout)          (None, 7, 7, 64)          0         \n",
            "_________________________________________________________________\n",
            "flatten_2 (Flatten)          (None, 3136)              0         \n",
            "_________________________________________________________________\n",
            "dense_4 (Dense)              (None, 1000)              3137000   \n",
            "_________________________________________________________________\n",
            "dropout_5 (Dropout)          (None, 1000)              0         \n",
            "_________________________________________________________________\n",
            "dense_5 (Dense)              (None, 10)                10010     \n",
            "=================================================================\n",
            "Total params: 3,156,098\n",
            "Trainable params: 3,156,098\n",
            "Non-trainable params: 0\n",
            "_________________________________________________________________\n"
          ],
          "name": "stdout"
        }
      ]
    },
    {
      "cell_type": "code",
      "metadata": {
        "id": "xZinCbwGK_hu",
        "colab_type": "code",
        "colab": {
          "base_uri": "https://localhost:8080/",
          "height": 737
        },
        "outputId": "c26eced6-4cf9-43e6-e931-42f8712526a1"
      },
      "source": [
        "model.compile(optimizer='adam', loss='categorical_crossentropy', metrics=['accuracy'])\n",
        "history = model.fit(x_train, y_train, epochs=20, validation_split=0.25)"
      ],
      "execution_count": null,
      "outputs": [
        {
          "output_type": "stream",
          "text": [
            "Epoch 1/20\n",
            "1407/1407 [==============================] - 6s 4ms/step - loss: 0.1584 - accuracy: 0.9495 - val_loss: 0.0551 - val_accuracy: 0.9830\n",
            "Epoch 2/20\n",
            "1407/1407 [==============================] - 5s 4ms/step - loss: 0.0625 - accuracy: 0.9809 - val_loss: 0.0436 - val_accuracy: 0.9867\n",
            "Epoch 3/20\n",
            "1407/1407 [==============================] - 5s 4ms/step - loss: 0.0464 - accuracy: 0.9852 - val_loss: 0.0373 - val_accuracy: 0.9889\n",
            "Epoch 4/20\n",
            "1407/1407 [==============================] - 5s 4ms/step - loss: 0.0377 - accuracy: 0.9885 - val_loss: 0.0350 - val_accuracy: 0.9893\n",
            "Epoch 5/20\n",
            "1407/1407 [==============================] - 5s 4ms/step - loss: 0.0320 - accuracy: 0.9896 - val_loss: 0.0428 - val_accuracy: 0.9875\n",
            "Epoch 6/20\n",
            "1407/1407 [==============================] - 5s 4ms/step - loss: 0.0286 - accuracy: 0.9909 - val_loss: 0.0424 - val_accuracy: 0.9885\n",
            "Epoch 7/20\n",
            "1407/1407 [==============================] - 6s 4ms/step - loss: 0.0246 - accuracy: 0.9922 - val_loss: 0.0359 - val_accuracy: 0.9907\n",
            "Epoch 8/20\n",
            "1407/1407 [==============================] - 6s 4ms/step - loss: 0.0234 - accuracy: 0.9922 - val_loss: 0.0324 - val_accuracy: 0.9909\n",
            "Epoch 9/20\n",
            "1407/1407 [==============================] - 6s 4ms/step - loss: 0.0205 - accuracy: 0.9931 - val_loss: 0.0367 - val_accuracy: 0.9910\n",
            "Epoch 10/20\n",
            "1407/1407 [==============================] - 5s 4ms/step - loss: 0.0184 - accuracy: 0.9940 - val_loss: 0.0408 - val_accuracy: 0.9906\n",
            "Epoch 11/20\n",
            "1407/1407 [==============================] - 6s 4ms/step - loss: 0.0174 - accuracy: 0.9944 - val_loss: 0.0424 - val_accuracy: 0.9899\n",
            "Epoch 12/20\n",
            "1407/1407 [==============================] - 6s 4ms/step - loss: 0.0162 - accuracy: 0.9947 - val_loss: 0.0430 - val_accuracy: 0.9901\n",
            "Epoch 13/20\n",
            "1407/1407 [==============================] - 6s 4ms/step - loss: 0.0184 - accuracy: 0.9942 - val_loss: 0.0348 - val_accuracy: 0.9912\n",
            "Epoch 14/20\n",
            "1407/1407 [==============================] - 6s 4ms/step - loss: 0.0143 - accuracy: 0.9959 - val_loss: 0.0364 - val_accuracy: 0.9914\n",
            "Epoch 15/20\n",
            "1407/1407 [==============================] - 6s 4ms/step - loss: 0.0147 - accuracy: 0.9951 - val_loss: 0.0530 - val_accuracy: 0.9905\n",
            "Epoch 16/20\n",
            "1407/1407 [==============================] - 6s 4ms/step - loss: 0.0138 - accuracy: 0.9957 - val_loss: 0.0478 - val_accuracy: 0.9900\n",
            "Epoch 17/20\n",
            "1407/1407 [==============================] - 6s 4ms/step - loss: 0.0129 - accuracy: 0.9958 - val_loss: 0.0479 - val_accuracy: 0.9899\n",
            "Epoch 18/20\n",
            "1407/1407 [==============================] - 5s 4ms/step - loss: 0.0134 - accuracy: 0.9956 - val_loss: 0.0465 - val_accuracy: 0.9905\n",
            "Epoch 19/20\n",
            "1407/1407 [==============================] - 5s 4ms/step - loss: 0.0139 - accuracy: 0.9960 - val_loss: 0.0532 - val_accuracy: 0.9897\n",
            "Epoch 20/20\n",
            "1407/1407 [==============================] - 5s 4ms/step - loss: 0.0101 - accuracy: 0.9966 - val_loss: 0.0523 - val_accuracy: 0.9917\n"
          ],
          "name": "stdout"
        }
      ]
    },
    {
      "cell_type": "code",
      "metadata": {
        "id": "Q_2scJc1dWJU",
        "colab_type": "code",
        "colab": {
          "base_uri": "https://localhost:8080/",
          "height": 283
        },
        "outputId": "5501fd04-81ae-483c-d422-f2053fa623e7"
      },
      "source": [
        "import matplotlib.pyplot as plt\n",
        "plt.figure(figsize=(12, 4))\n",
        "\n",
        "plt.subplot(1, 2, 1)\n",
        "plt.plot(history.history['loss'], 'b-', label='loss')\n",
        "plt.plot(history.history['val_loss'], 'r--', label='val_loss')\n",
        "plt.xlabel('Epoch')\n",
        "plt.legend()\n",
        "\n",
        "plt.subplot(1, 2, 2)\n",
        "plt.plot(history.history['accuracy'], 'b-', label='accuracy')\n",
        "plt.plot(history.history['val_accuracy'], 'r--', label='val_accuracy')\n",
        "plt.xlabel('Epoch')\n",
        "plt.ylim(0.7, 1)\n",
        "plt.legend()\n",
        "\n",
        "plt.show()"
      ],
      "execution_count": null,
      "outputs": [
        {
          "output_type": "display_data",
          "data": {
            "image/png": "[encoded data removed]",
            "text/plain": [
              "<Figure size 864x288 with 2 Axes>"
            ]
          },
          "metadata": {
            "tags": [],
            "needs_background": "light"
          }
        }
      ]
    },
    {
      "cell_type": "markdown",
      "metadata": {
        "id": "QEnQHa31lj2t",
        "colab_type": "text"
      },
      "source": [
        "아래로는 같은 모델로 fashion MNIST 데이터셋을 학습시켜본다"
      ]
    },
    {
      "cell_type": "code",
      "metadata": {
        "id": "RDfPoY1_eFZc",
        "colab_type": "code",
        "colab": {
          "base_uri": "https://localhost:8080/",
          "height": 53
        },
        "outputId": "5f973339-7474-4174-c97e-d196288402f0"
      },
      "source": [
        "model.evaluate(x_test, y_test)"
      ],
      "execution_count": null,
      "outputs": [
        {
          "output_type": "stream",
          "text": [
            "313/313 [==============================] - 1s 2ms/step - loss: 0.0319 - accuracy: 0.9934\n"
          ],
          "name": "stdout"
        },
        {
          "output_type": "execute_result",
          "data": {
            "text/plain": [
              "[0.03185197338461876, 0.993399977684021]"
            ]
          },
          "metadata": {
            "tags": []
          },
          "execution_count": 18
        }
      ]
    },
    {
      "cell_type": "code",
      "metadata": {
        "id": "KWQt6wNFgQWK",
        "colab_type": "code",
        "colab": {}
      },
      "source": [
        "import tensorflow as tf\n",
        "\n",
        "fashion_mnist = tf.keras.datasets.fashion_mnist\n",
        "(x_train, y_train), (x_test, y_test) = fashion_mnist.load_data()"
      ],
      "execution_count": 3,
      "outputs": []
    },
    {
      "cell_type": "code",
      "metadata": {
        "id": "kZwXhCu3gSjI",
        "colab_type": "code",
        "colab": {
          "base_uri": "https://localhost:8080/",
          "height": 338
        },
        "outputId": "701b6bb7-9d5e-4236-c2fc-e77b723ed101"
      },
      "source": [
        "import matplotlib.pyplot as plt\n",
        "\n",
        "plt.figure(figsize=(5, 5))\n",
        "plt.imshow(x_train[0])\n",
        "plt.show()\n",
        "\n",
        "print(y_train[0])"
      ],
      "execution_count": 4,
      "outputs": [
        {
          "output_type": "display_data",
          "data": {
            "image/png": "[encoded data removed]",
            "text/plain": [
              "<Figure size 360x360 with 1 Axes>"
            ]
          },
          "metadata": {
            "tags": [],
            "needs_background": "light"
          }
        },
        {
          "output_type": "stream",
          "text": [
            "9\n"
          ],
          "name": "stdout"
        }
      ]
    },
    {
      "cell_type": "code",
      "metadata": {
        "id": "05Deljdhg5fO",
        "colab_type": "code",
        "colab": {}
      },
      "source": [
        "x_train = x_train / 255.0\n",
        "x_test = x_test / 255.0\n",
        "\n",
        "x_train = x_train.reshape(x_train.shape[0], 28, 28, 1)\n",
        "x_test = x_test.reshape(x_test.shape[0], 28, 28, 1)\n",
        "\n",
        "y_train = tf.keras.utils.to_categorical(y_train, 10)\n",
        "y_test = tf.keras.utils.to_categorical(y_test, 10)"
      ],
      "execution_count": 5,
      "outputs": []
    },
    {
      "cell_type": "code",
      "metadata": {
        "id": "yP50c11Ag-vt",
        "colab_type": "code",
        "colab": {
          "base_uri": "https://localhost:8080/",
          "height": 485
        },
        "outputId": "d92b6e6a-673e-42f9-ff1b-814bf9010a48"
      },
      "source": [
        "model = tf.keras.models.Sequential([\n",
        "                    tf.keras.layers.Conv2D(32, kernel_size=(5, 5), strides=(1, 1), padding='same', activation='relu', input_shape=(28, 28, 1)),\n",
        "                    tf.keras.layers.MaxPooling2D(pool_size=(2, 2), strides=(2, 2)),\n",
        "                    tf.keras.layers.Conv2D(64, (2, 2), activation='relu', padding='same'),\n",
        "                    tf.keras.layers.MaxPooling2D(pool_size=(2, 2)),\n",
        "                    tf.keras.layers.Dropout(0.25),\n",
        "                    tf.keras.layers.Flatten(),\n",
        "                    tf.keras.layers.Dense(1000, activation='relu'),\n",
        "                    tf.keras.layers.Dropout(0.5),\n",
        "                    tf.keras.layers.Dense(10, activation='softmax'),\n",
        "])\n",
        "                    \n",
        "model.summary()"
      ],
      "execution_count": 6,
      "outputs": [
        {
          "output_type": "stream",
          "text": [
            "Model: \"sequential\"\n",
            "_________________________________________________________________\n",
            "Layer (type)                 Output Shape              Param #   \n",
            "=================================================================\n",
            "conv2d (Conv2D)              (None, 28, 28, 32)        832       \n",
            "_________________________________________________________________\n",
            "max_pooling2d (MaxPooling2D) (None, 14, 14, 32)        0         \n",
            "_________________________________________________________________\n",
            "conv2d_1 (Conv2D)            (None, 14, 14, 64)        8256      \n",
            "_________________________________________________________________\n",
            "max_pooling2d_1 (MaxPooling2 (None, 7, 7, 64)          0         \n",
            "_________________________________________________________________\n",
            "dropout (Dropout)            (None, 7, 7, 64)          0         \n",
            "_________________________________________________________________\n",
            "flatten (Flatten)            (None, 3136)              0         \n",
            "_________________________________________________________________\n",
            "dense (Dense)                (None, 1000)              3137000   \n",
            "_________________________________________________________________\n",
            "dropout_1 (Dropout)          (None, 1000)              0         \n",
            "_________________________________________________________________\n",
            "dense_1 (Dense)              (None, 10)                10010     \n",
            "=================================================================\n",
            "Total params: 3,156,098\n",
            "Trainable params: 3,156,098\n",
            "Non-trainable params: 0\n",
            "_________________________________________________________________\n"
          ],
          "name": "stdout"
        }
      ]
    },
    {
      "cell_type": "code",
      "metadata": {
        "id": "-7L9baMHhHRP",
        "colab_type": "code",
        "colab": {
          "base_uri": "https://localhost:8080/",
          "height": 737
        },
        "outputId": "fbe48191-1d9c-48a3-e1cb-bda22bc223a8"
      },
      "source": [
        "model.compile(optimizer='adam', loss='categorical_crossentropy', metrics=['accuracy'])\n",
        "history = model.fit(x_train, y_train, epochs=20, validation_split=0.25)"
      ],
      "execution_count": 7,
      "outputs": [
        {
          "output_type": "stream",
          "text": [
            "Epoch 1/20\n",
            "1407/1407 [==============================] - 6s 4ms/step - loss: 0.4583 - accuracy: 0.8350 - val_loss: 0.3285 - val_accuracy: 0.8791\n",
            "Epoch 2/20\n",
            "1407/1407 [==============================] - 6s 4ms/step - loss: 0.3109 - accuracy: 0.8860 - val_loss: 0.2721 - val_accuracy: 0.8981\n",
            "Epoch 3/20\n",
            "1407/1407 [==============================] - 5s 4ms/step - loss: 0.2688 - accuracy: 0.9004 - val_loss: 0.2522 - val_accuracy: 0.9083\n",
            "Epoch 4/20\n",
            "1407/1407 [==============================] - 5s 4ms/step - loss: 0.2418 - accuracy: 0.9099 - val_loss: 0.2401 - val_accuracy: 0.9113\n",
            "Epoch 5/20\n",
            "1407/1407 [==============================] - 6s 4ms/step - loss: 0.2215 - accuracy: 0.9167 - val_loss: 0.2289 - val_accuracy: 0.9157\n",
            "Epoch 6/20\n",
            "1407/1407 [==============================] - 6s 4ms/step - loss: 0.2014 - accuracy: 0.9250 - val_loss: 0.2271 - val_accuracy: 0.9184\n",
            "Epoch 7/20\n",
            "1407/1407 [==============================] - 6s 4ms/step - loss: 0.1866 - accuracy: 0.9309 - val_loss: 0.2296 - val_accuracy: 0.9195\n",
            "Epoch 8/20\n",
            "1407/1407 [==============================] - 6s 4ms/step - loss: 0.1692 - accuracy: 0.9370 - val_loss: 0.2279 - val_accuracy: 0.9190\n",
            "Epoch 9/20\n",
            "1407/1407 [==============================] - 6s 4ms/step - loss: 0.1590 - accuracy: 0.9408 - val_loss: 0.2440 - val_accuracy: 0.9168\n",
            "Epoch 10/20\n",
            "1407/1407 [==============================] - 6s 4ms/step - loss: 0.1474 - accuracy: 0.9449 - val_loss: 0.2544 - val_accuracy: 0.9177\n",
            "Epoch 11/20\n",
            "1407/1407 [==============================] - 6s 4ms/step - loss: 0.1376 - accuracy: 0.9487 - val_loss: 0.2395 - val_accuracy: 0.9196\n",
            "Epoch 12/20\n",
            "1407/1407 [==============================] - 6s 4ms/step - loss: 0.1247 - accuracy: 0.9546 - val_loss: 0.2430 - val_accuracy: 0.9221\n",
            "Epoch 13/20\n",
            "1407/1407 [==============================] - 5s 4ms/step - loss: 0.1168 - accuracy: 0.9555 - val_loss: 0.2506 - val_accuracy: 0.9229\n",
            "Epoch 14/20\n",
            "1407/1407 [==============================] - 5s 4ms/step - loss: 0.1107 - accuracy: 0.9592 - val_loss: 0.2698 - val_accuracy: 0.9208\n",
            "Epoch 15/20\n",
            "1407/1407 [==============================] - 5s 4ms/step - loss: 0.1039 - accuracy: 0.9603 - val_loss: 0.2576 - val_accuracy: 0.9227\n",
            "Epoch 16/20\n",
            "1407/1407 [==============================] - 5s 4ms/step - loss: 0.0962 - accuracy: 0.9642 - val_loss: 0.2848 - val_accuracy: 0.9195\n",
            "Epoch 17/20\n",
            "1407/1407 [==============================] - 5s 4ms/step - loss: 0.0926 - accuracy: 0.9655 - val_loss: 0.2722 - val_accuracy: 0.9209\n",
            "Epoch 18/20\n",
            "1407/1407 [==============================] - 5s 4ms/step - loss: 0.0878 - accuracy: 0.9670 - val_loss: 0.2673 - val_accuracy: 0.9202\n",
            "Epoch 19/20\n",
            "1407/1407 [==============================] - 6s 4ms/step - loss: 0.0815 - accuracy: 0.9690 - val_loss: 0.2789 - val_accuracy: 0.9241\n",
            "Epoch 20/20\n",
            "1407/1407 [==============================] - 5s 4ms/step - loss: 0.0811 - accuracy: 0.9694 - val_loss: 0.2922 - val_accuracy: 0.9242\n"
          ],
          "name": "stdout"
        }
      ]
    },
    {
      "cell_type": "code",
      "metadata": {
        "id": "NeOclLvFjD5F",
        "colab_type": "code",
        "colab": {
          "base_uri": "https://localhost:8080/",
          "height": 283
        },
        "outputId": "eee59ee6-dc0e-498c-decd-50d7677bf332"
      },
      "source": [
        "plt.figure(figsize=(12, 4))\n",
        "\n",
        "plt.subplot(1, 2, 1)\n",
        "plt.plot(history.history['loss'], 'b-', label='loss')\n",
        "plt.plot(history.history['val_loss'], 'r--', label='val_loss')\n",
        "plt.xlabel('Epoch')\n",
        "plt.legend()\n",
        "\n",
        "plt.subplot(1, 2, 2)\n",
        "plt.plot(history.history['accuracy'], 'b-', label='accuracy')\n",
        "plt.plot(history.history['val_accuracy'], 'r--', label='val_accuracy')\n",
        "plt.xlabel('Epoch')\n",
        "plt.ylim(0.7, 1)\n",
        "plt.legend()\n",
        "\n",
        "plt.show()"
      ],
      "execution_count": 8,
      "outputs": [
        {
          "output_type": "display_data",
          "data": {
            "image/png": "[encoded data removed]",
            "text/plain": [
              "<Figure size 864x288 with 2 Axes>"
            ]
          },
          "metadata": {
            "tags": [],
            "needs_background": "light"
          }
        }
      ]
    },
    {
      "cell_type": "code",
      "metadata": {
        "id": "tsJ1SmS_jGIq",
        "colab_type": "code",
        "colab": {
          "base_uri": "https://localhost:8080/",
          "height": 53
        },
        "outputId": "bd478178-3a00-46e7-ec54-010887a7fb3b"
      },
      "source": [
        "model.evaluate(x_test, y_test)"
      ],
      "execution_count": 9,
      "outputs": [
        {
          "output_type": "stream",
          "text": [
            "313/313 [==============================] - 1s 2ms/step - loss: 0.3188 - accuracy: 0.9199\n"
          ],
          "name": "stdout"
        },
        {
          "output_type": "execute_result",
          "data": {
            "text/plain": [
              "[0.3188129961490631, 0.9199000000953674]"
            ]
          },
          "metadata": {
            "tags": []
          },
          "execution_count": 9
        }
      ]
    }
  ]
}