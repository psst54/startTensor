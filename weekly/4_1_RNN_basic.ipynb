{
  "nbformat": 4,
  "nbformat_minor": 0,
  "metadata": {
    "colab": {
      "name": "4_1 RNN_basic.ipynb",
      "provenance": [],
      "collapsed_sections": [],
      "authorship_tag": "ABX9TyMM3+SAFY5Qk5fRn/SZhnoX",
      "include_colab_link": true
    },
    "kernelspec": {
      "name": "python3",
      "display_name": "Python 3"
    }
  },
  "cells": [
    {
      "cell_type": "markdown",
      "metadata": {
        "id": "view-in-github",
        "colab_type": "text"
      },
      "source": [
        "<a href=\"https://colab.research.google.com/github/psst54/startTensorflow/blob/master/weekly/4_1_RNN_basic.ipynb\" target=\"_parent\"><img src=\"https://colab.research.google.com/assets/colab-badge.svg\" alt=\"Open In Colab\"/></a>"
      ]
    },
    {
      "cell_type": "markdown",
      "metadata": {
        "id": "A_6ZBLHy5oFi",
        "colab_type": "text"
      },
      "source": [
        "RNN은 유닛이 순환적으로 연결되어 있음.\n",
        "길이가 정해지지 않고, 순서가 있는 음성/자연어 등을 처리하는데 유용함."
      ]
    },
    {
      "cell_type": "markdown",
      "metadata": {
        "id": "tsJIfrvQ8eAV",
        "colab_type": "text"
      },
      "source": [
        "#SimpleRNN\n",
        "\n",
        "SimpleRNN의 인자값들은 https://www.tensorflow.org/api_docs/python/tf/keras/layers/SimpleRNN 참고\n",
        "\n",
        "SimpleRNN은 활성화함수로 보통 tanh를 사용한다."
      ]
    },
    {
      "cell_type": "markdown",
      "metadata": {
        "id": "7kk59SjN6nug",
        "colab_type": "text"
      },
      "source": [
        "SimpleRNN 외에도 keras에서는 다른 RNN 구조를 제공한다.\n",
        "\n",
        "https://keras.io/api/layers/recurrent_layers/\n",
        "에서 keras가 제공하는 RNN을 볼 수 있다."
      ]
    },
    {
      "cell_type": "code",
      "metadata": {
        "id": "paTfgye9CM2G",
        "colab_type": "code",
        "colab": {}
      },
      "source": [
        "# SimpleRNN\n",
        "\n",
        "import tensorflow as tf\n",
        "model = tf.keras.Sequential([\n",
        "                             tf.keras.layers.SimpleRNN(\"\"\"parameters\"\"\"),\n",
        "                             tf.keras.layers.Dense(1)\n",
        "])\n",
        "\n",
        "model.compile(optimizer='adam', loss='mse')\n",
        "model.summary()"
      ],
      "execution_count": null,
      "outputs": []
    },
    {
      "cell_type": "markdown",
      "metadata": {
        "id": "GeaJU1gW8aMj",
        "colab_type": "text"
      },
      "source": [
        "#LSTM\n",
        "\n",
        "LSTM(Long sort-term memory)은 Long-Term Dependency 문제를 해결하기 위해 고안되었다.\n",
        "\n",
        "참고 : https://dgkim5360.tistory.com/entry/understanding-long-short-term-memory-lstm-kr"
      ]
    },
    {
      "cell_type": "code",
      "metadata": {
        "id": "j6XnK7paCO7d",
        "colab_type": "code",
        "colab": {}
      },
      "source": [
        "# LSTM\n",
        "\n",
        "import tensorflow as tf\n",
        "model = tf.keras.Sequential([\n",
        "                             tf.keras.layers.LSTM(\"\"\"parameters\"\"\"),\n",
        "                             tf.keras.layers.Dense(1)\n",
        "])\n",
        "\n",
        "model.compile(optimizer='adam', loss='mse')\n",
        "model.summary()"
      ],
      "execution_count": null,
      "outputs": []
    }
  ]
}